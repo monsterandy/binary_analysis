{
 "cells": [
  {
   "cell_type": "code",
   "execution_count": 1,
   "metadata": {},
   "outputs": [],
   "source": [
    "import os\n",
    "from shutil import copy2, rmtree\n",
    "import tempfile\n",
    "from pyunpack import Archive\n",
    "import magic"
   ]
  },
  {
   "cell_type": "code",
   "execution_count": 2,
   "metadata": {},
   "outputs": [],
   "source": [
    "rootdir = '/home/andy/Documents/binary_analysis/firmwareCollection/se'"
   ]
  },
  {
   "cell_type": "code",
   "execution_count": 3,
   "metadata": {},
   "outputs": [],
   "source": [
    "def process_arch(path):\n",
    "    with tempfile.TemporaryDirectory() as tmp_dir:\n",
    "        try:\n",
    "            Archive(path).extractall(tmp_dir.name)\n",
    "        except:\n",
    "            os.system('7z x ' + path + ' -y -o' + tmp_dir.name + ' > /dev/null 2>&1')\n",
    "        go_through_dir(tmp_dir.name)"
   ]
  },
  {
   "cell_type": "code",
   "execution_count": 4,
   "metadata": {},
   "outputs": [],
   "source": [
    "def process_elf(path):\n",
    "    f_type = magic.from_file(path)\n",
    "    if 'ARM' in f_type:\n",
    "        print('ELF Arm file: {}'.format(path))\n",
    "        copy2(path, './ELFs')"
   ]
  },
  {
   "cell_type": "code",
   "execution_count": 5,
   "metadata": {},
   "outputs": [],
   "source": [
    "arch_types = ['tar', '7z', 'zip', 'rar']\n",
    "def file_type(root_path, filename):\n",
    "    path = os.path.join(root_path, filename)\n",
    "    try:\n",
    "        info = magic.from_file(path)\n",
    "    except:\n",
    "        return\n",
    "    if any(f_type in info.lower() for f_type in arch_types):\n",
    "        process_arch(path)\n",
    "    elif 'arm' in info.lower():\n",
    "        print(info)\n",
    "        process_elf(path)\n",
    "    \n",
    "    with open('file_type.log', 'a') as log:\n",
    "        log.write(info + '\\n')\n"
   ]
  },
  {
   "cell_type": "code",
   "execution_count": 6,
   "metadata": {},
   "outputs": [],
   "source": [
    "def go_through_dir(dir_path):\n",
    "    for root, _, files in os.walk(dir_path):\n",
    "        for file in files:\n",
    "            file_type(root, file)"
   ]
  },
  {
   "cell_type": "code",
   "execution_count": 7,
   "metadata": {},
   "outputs": [
    {
     "name": "stdout",
     "output_type": "stream",
     "text": [
      "ELF Arm file: /tmp/tmp34sqvzj_/vxWorks.img\n",
      "ELF Arm file: /tmp/tmppr92tjya/vxWorks.img\n",
      "ELF Arm file: /tmp/tmpgyf5sliv/vxWorks.img\n",
      "ELF Arm file: /tmp/tmpru1slnso/vxWorks.img\n",
      "ELF Arm file: /tmp/tmpqwfkkl_p/vxWorks.img\n",
      "ELF Arm file: /tmp/tmpdugnm_qx/vxWorks.img\n",
      "ELF Arm file: /tmp/tmpdqd3fpox/PUBLIC/DRIVERS/MODBUS.DLM\n",
      "ELF Arm file: /tmp/tmpdqd3fpox/PUBLIC/DRIVERS/MODBUSPLC.DLM\n",
      "ELF Arm file: /tmp/tmpdqd3fpox/PUBLIC/DRIVERS/DSSERVER.DLM\n",
      "ELF Arm file: /tmp/tmpbk9mpxkp/EnerlinX_FDM128_firmware_V8_0_14/PUBLIC/DRIVERS/MODBUS.DLM\n",
      "ELF Arm file: /tmp/tmpbk9mpxkp/EnerlinX_FDM128_firmware_V8_0_14/PUBLIC/DRIVERS/MODBUSPLC.DLM\n",
      "ELF Arm file: /tmp/tmpbk9mpxkp/EnerlinX_FDM128_firmware_V8_0_14/PUBLIC/DRIVERS/DSSERVER.DLM\n",
      "ELF Arm file: /tmp/tmpxt2tp_1s/Image/sys/OS/pltdkmcustom.out\n",
      "ELF Arm file: /tmp/tmpnjripzbn/Image_SD_Card_M241_V4.0.6.38/sys/OS/pltdkmcustom.out\n",
      "ELF Arm file: /tmp/tmp3dtmuvki/Image/sys/OS/pltdkmcustom.out\n",
      "ELF Arm file: /tmp/tmpwrrspxto/Image_SD_Card_M251_V4.0.6.38/sys/OS/pltdkmcustom.out\n",
      "ELF Arm file: /tmp/tmp0ybownj6/Image/sys/OS/pltdkmcustom.out\n",
      "ELF Arm file: /tmp/tmp_84qxgoq/Image_SD_Card_M241_V4.0.6.39/sys/OS/pltdkmcustom.out\n",
      "ELF Arm file: /tmp/tmp1segl36s/Image_SD_Card_M251_V4.0.6.39/sys/OS/pltdkmcustom.out\n",
      "ELF Arm file: /tmp/tmpzq9j5vi3/Image/sys/OS/pltdkmcustom.out\n",
      "ELF Arm file: /tmp/tmp40y40xfh/PUBLIC/DRIVERS/MODBUS.DLM\n",
      "ELF Arm file: /tmp/tmp40y40xfh/PUBLIC/DRIVERS/MODBUSPLC.DLM\n",
      "ELF Arm file: /tmp/tmp40y40xfh/PUBLIC/DRIVERS/DSSERVER.DLM\n",
      "ELF Arm file: /tmp/tmpjbf621w6/vxWorks.img\n",
      "ELF Arm file: /tmp/tmpq71u5ayu/vxWorks.img\n",
      "ELF Arm file: /tmp/tmpsni5rd9w/vxWorks.img\n",
      "ELF Arm file: /tmp/tmp13y_7pob/vxWorks.img\n",
      "ELF Arm file: /tmp/tmpkqxsxo2l/vxWorks.img\n"
     ]
    }
   ],
   "source": [
    "if os.path.exists('file_type.log'):\n",
    "    os.remove('file_type.log')\n",
    "\n",
    "if os.path.exists('./ELFs'):\n",
    "    rmtree('./ELFs')\n",
    "    os.mkdir('./ELFs')\n",
    "\n",
    "go_through_dir(rootdir)"
   ]
  },
  {
   "cell_type": "code",
   "execution_count": 10,
   "metadata": {},
   "outputs": [],
   "source": [
    "fn = '/home/andy/Documents/binary_analysis/e496c92d4fc1d6362164fd39c22cb2f5330aedff'"
   ]
  },
  {
   "cell_type": "code",
   "execution_count": 4,
   "metadata": {},
   "outputs": [
    {
     "data": {
      "text/plain": [
       "'data (Zip archive data, at least v2.0 to extract)'"
      ]
     },
     "execution_count": 4,
     "metadata": {},
     "output_type": "execute_result"
    }
   ],
   "source": [
    "f = magic.Magic(uncompress=True)\n",
    "f.from_file(fn)"
   ]
  },
  {
   "cell_type": "code",
   "execution_count": 7,
   "metadata": {},
   "outputs": [
    {
     "name": "stdout",
     "output_type": "stream",
     "text": [
      "/home/andy/Documents/GitHub/binary_analysis/ELFs/vxWorks.img\n"
     ]
    }
   ],
   "source": [
    "ph = '/home/andy/Documents/GitHub/binary_analysis/ELFs'\n",
    "for root, _, files in os.walk(ph):\n",
    "        for file in files:\n",
    "            path = os.path.join(root, file)\n",
    "            info = mg.from_file(path)\n",
    "            if 'arm' in info.lower():\n",
    "                print(path)"
   ]
  },
  {
   "cell_type": "code",
   "execution_count": 24,
   "metadata": {},
   "outputs": [],
   "source": [
    "process_arch(fn)"
   ]
  },
  {
   "cell_type": "code",
   "execution_count": 43,
   "metadata": {},
   "outputs": [
    {
     "name": "stdout",
     "output_type": "stream",
     "text": [
      "created temporary directory /tmp/tmpfehnyuaw\n"
     ]
    }
   ],
   "source": [
    "with tempfile.TemporaryDirectory() as tmpdirname:\n",
    "     print('created temporary directory', tmpdirname)"
   ]
  },
  {
   "cell_type": "code",
   "execution_count": 5,
   "metadata": {},
   "outputs": [
    {
     "name": "stdout",
     "output_type": "stream",
     "text": [
      "/tmp/tmp1qjj99mf\n"
     ]
    }
   ],
   "source": [
    "temp_dir = tempfile.TemporaryDirectory()\n",
    "print(temp_dir.name)\n",
    "# use temp_dir, and when done:\n",
    "temp_dir.cleanup()"
   ]
  },
  {
   "cell_type": "code",
   "execution_count": null,
   "metadata": {},
   "outputs": [],
   "source": []
  }
 ],
 "metadata": {
  "interpreter": {
   "hash": "0ac8b909871db91444abc669a3331d38cf6a87ee935d7d70c4c98623561dd2d7"
  },
  "kernelspec": {
   "display_name": "Python 3.9.7 64-bit ('bin': conda)",
   "name": "python3"
  },
  "language_info": {
   "codemirror_mode": {
    "name": "ipython",
    "version": 3
   },
   "file_extension": ".py",
   "mimetype": "text/x-python",
   "name": "python",
   "nbconvert_exporter": "python",
   "pygments_lexer": "ipython3",
   "version": "3.9.7"
  },
  "orig_nbformat": 4
 },
 "nbformat": 4,
 "nbformat_minor": 2
}
